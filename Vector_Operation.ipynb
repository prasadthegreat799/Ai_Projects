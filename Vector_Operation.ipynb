{
  "nbformat": 4,
  "nbformat_minor": 0,
  "metadata": {
    "colab": {
      "name": "Vector Operation.ipynb",
      "provenance": [],
      "authorship_tag": "ABX9TyMqYU+/ecsNjvNGC0raHPX3",
      "include_colab_link": true
    },
    "kernelspec": {
      "name": "python3",
      "display_name": "Python 3"
    },
    "language_info": {
      "name": "python"
    }
  },
  "cells": [
    {
      "cell_type": "markdown",
      "metadata": {
        "id": "view-in-github",
        "colab_type": "text"
      },
      "source": [
        "<a href=\"https://colab.research.google.com/github/prasadthegreat799/Ai_Projects/blob/main/Vector_Operation.ipynb\" target=\"_parent\"><img src=\"https://colab.research.google.com/assets/colab-badge.svg\" alt=\"Open In Colab\"/></a>"
      ]
    },
    {
      "cell_type": "code",
      "metadata": {
        "id": "oHSM7hzD8TuM"
      },
      "source": [
        "import numpy as np"
      ],
      "execution_count": 1,
      "outputs": []
    },
    {
      "cell_type": "markdown",
      "metadata": {
        "id": "VcgwouH5_hv9"
      },
      "source": [
        "Dot Product of Two Vectors"
      ]
    },
    {
      "cell_type": "code",
      "metadata": {
        "id": "OgBLRRQ1_hAX"
      },
      "source": [
        "a=np.array([2,3])\n",
        "b=np.array([4,4])"
      ],
      "execution_count": 2,
      "outputs": []
    },
    {
      "cell_type": "code",
      "metadata": {
        "colab": {
          "base_uri": "https://localhost:8080/"
        },
        "id": "Jz_gMxs7_uN9",
        "outputId": "9ef4cd36-85c4-4f5d-e14f-b0942097b170"
      },
      "source": [
        "a_dot_b=np.dot(a,b)\n",
        "print(a_dot_b)"
      ],
      "execution_count": 4,
      "outputs": [
        {
          "output_type": "stream",
          "name": "stdout",
          "text": [
            "20\n"
          ]
        }
      ]
    },
    {
      "cell_type": "code",
      "metadata": {
        "colab": {
          "base_uri": "https://localhost:8080/"
        },
        "id": "r_scQXG4_z4_",
        "outputId": "63358261-ec33-4b06-842e-9897a0518b3a"
      },
      "source": [
        "c=np.array([40,20,35])\n",
        "d=np.array([53,24,68])\n",
        "\n",
        "c_dot_d=np.dot(c,d)\n",
        "\n",
        "print(c_dot_d)"
      ],
      "execution_count": 6,
      "outputs": [
        {
          "output_type": "stream",
          "name": "stdout",
          "text": [
            "4980\n"
          ]
        }
      ]
    },
    {
      "cell_type": "markdown",
      "metadata": {
        "id": "kXUtM8bPAp47"
      },
      "source": [
        "Cross Product"
      ]
    },
    {
      "cell_type": "code",
      "metadata": {
        "colab": {
          "base_uri": "https://localhost:8080/"
        },
        "id": "sJvOjI8tAUNg",
        "outputId": "85ee8238-0545-4a0f-fd62-73199a9d303e"
      },
      "source": [
        "a=np.array([2,3])\n",
        "b=np.array([4,4])\n",
        "\n",
        "a_cross_b=np.cross(a,b)\n",
        "print(a_cross_b)"
      ],
      "execution_count": 8,
      "outputs": [
        {
          "output_type": "stream",
          "name": "stdout",
          "text": [
            "-4\n"
          ]
        }
      ]
    },
    {
      "cell_type": "code",
      "metadata": {
        "colab": {
          "base_uri": "https://localhost:8080/"
        },
        "id": "NUOKeOffA1DG",
        "outputId": "ad85bfcb-3a0a-4ef6-f895-48a9054e7cb3"
      },
      "source": [
        "c=np.array([5,10,20])\n",
        "d=np.array([10,20,30])\n",
        "c_cross_d=np.cross(c,d)\n",
        "print(c_cross_d)"
      ],
      "execution_count": 9,
      "outputs": [
        {
          "output_type": "stream",
          "name": "stdout",
          "text": [
            "[-100   50    0]\n"
          ]
        }
      ]
    },
    {
      "cell_type": "code",
      "metadata": {
        "id": "L_ej71uzBatU"
      },
      "source": [
        ""
      ],
      "execution_count": null,
      "outputs": []
    }
  ]
}